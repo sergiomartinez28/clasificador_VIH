{
 "cells": [
  {
   "cell_type": "code",
   "execution_count": 1,
   "metadata": {},
   "outputs": [
    {
     "name": "stderr",
     "output_type": "stream",
     "text": [
      "C:\\Users\\serma\\AppData\\Local\\Packages\\PythonSoftwareFoundation.Python.3.11_qbz5n2kfra8p0\\LocalCache\\local-packages\\Python311\\site-packages\\tqdm\\auto.py:21: TqdmWarning: IProgress not found. Please update jupyter and ipywidgets. See https://ipywidgets.readthedocs.io/en/stable/user_install.html\n",
      "  from .autonotebook import tqdm as notebook_tqdm\n",
      "C:\\Users\\serma\\AppData\\Local\\Packages\\PythonSoftwareFoundation.Python.3.11_qbz5n2kfra8p0\\LocalCache\\local-packages\\Python311\\site-packages\\huggingface_hub\\file_download.py:1132: FutureWarning: `resume_download` is deprecated and will be removed in version 1.0.0. Downloads always resume when possible. If you want to force a new download, use `force_download=True`.\n",
      "  warnings.warn(\n"
     ]
    }
   ],
   "source": [
    "from clasificador_reglas import ClasificadorReglas\n",
    "\n",
    "from clasificadorVIH import ClasificadorVIH\n",
    "clasificador = ClasificadorVIH()\n",
    "clasificador_reglas = ClasificadorReglas()"
   ]
  },
  {
   "cell_type": "code",
   "execution_count": 2,
   "metadata": {},
   "outputs": [
    {
     "name": "stdout",
     "output_type": "stream",
     "text": [
      "CASOS NEGATIVOS\n",
      "Total sintomas grupo 1: 1 ; Media de sintomas del grupo 1: 0.02 ; Puntuación media: 4.7\n",
      "Total sintomas grupo 2: 1 ; Media de sintomas del grupo 2: 0.02 ; Puntuación media: 4.0\n",
      "Total sintomas grupo 3: 3.0 ; Media de sintomas del grupo 3: 0.06 ; Puntuación media: 2.6333333333333333\n",
      "Total sintomas grupo 6: 50 ; Media de sintomas del grupo 6: 1.0 ; Puntuación media: 2.556\n",
      "Total sintomas grupo 7: 2 ; Media de sintomas del grupo 7: 0.04 ; Puntuación media: 2.9\n",
      "Total sintomas grupo 8: 5 ; Media de sintomas del grupo 8: 0.1 ; Puntuación media: 4.24\n",
      "\n",
      "CASOS NEGATIVOS ACERTADOS:  36\n"
     ]
    }
   ],
   "source": [
    "print('CASOS NEGATIVOS')\n",
    "contadorF = 0\n",
    "contador_g1 = 0\n",
    "contador_g2 = 0\n",
    "contador_g3 = 0.\n",
    "contador_g6 = 0\n",
    "contador_g7 = 0\n",
    "contador_g8 = 0\n",
    "puntuacion_g1 = 0\n",
    "puntuacion_g2 = 0\n",
    "puntuacion_g3 = 0\n",
    "puntuacion_g6 = 0\n",
    "puntuacion_g7 = 0\n",
    "puntuacion_g8 = 0\n",
    "for i in range(0,50):\n",
    "    g1, g2, g3, g4, g5, g6, g7, g8, score = clasificador.symptoms_analysis(i)\n",
    "    contador_g1 += len(g1[0])\n",
    "    puntuacion_g1 += g1[1]\n",
    "    contador_g2 += len(g2[0])\n",
    "    puntuacion_g2 += g2[1]\n",
    "    contador_g3 += len(g3[0])\n",
    "    puntuacion_g3 += g3[1]\n",
    "    contador_g6 += len(g6[0])\n",
    "    puntuacion_g6 += g6[1]\n",
    "    contador_g7 += len(g7[0])\n",
    "    puntuacion_g7 += g7[1]\n",
    "    contador_g8 += len(g8[0])\n",
    "    puntuacion_g8 += g8[1]\n",
    "    resultado = clasificador_reglas.execute('datasets2', i)\n",
    "    if resultado == False:\n",
    "        contadorF += 1\n",
    "print(f\"Total sintomas grupo 1: {contador_g1} ; Media de sintomas del grupo 1: {contador_g1/50} ; Puntuación media: {puntuacion_g1/contador_g1}\")\n",
    "print(f\"Total sintomas grupo 2: {contador_g2} ; Media de sintomas del grupo 2: {contador_g2/50} ; Puntuación media: {puntuacion_g2/contador_g2}\")\n",
    "print(f\"Total sintomas grupo 3: {contador_g3} ; Media de sintomas del grupo 3: {contador_g3/50} ; Puntuación media: {puntuacion_g3/contador_g3}\")\n",
    "print(f\"Total sintomas grupo 6: {contador_g6} ; Media de sintomas del grupo 6: {contador_g6/50} ; Puntuación media: {puntuacion_g6/contador_g6}\")\n",
    "print(f\"Total sintomas grupo 7: {contador_g7} ; Media de sintomas del grupo 7: {contador_g7/50} ; Puntuación media: {puntuacion_g7/contador_g7}\")\n",
    "print(f\"Total sintomas grupo 8: {contador_g8} ; Media de sintomas del grupo 8: {contador_g8/50} ; Puntuación media: {puntuacion_g8/contador_g8}\")\n",
    "print()\n",
    "print('CASOS NEGATIVOS ACERTADOS: ', contadorF)"
   ]
  },
  {
   "cell_type": "code",
   "execution_count": 3,
   "metadata": {},
   "outputs": [
    {
     "name": "stdout",
     "output_type": "stream",
     "text": [
      "CASOS POSITIVOS\n",
      "Total sintomas grupo 1: 14 ; Media de sintomas del grupo 1: 0.28 ; Puntuación media: 4.728571428571428\n",
      "Total sintomas grupo 2: 8 ; Media de sintomas del grupo 2: 0.16 ; Puntuación media: 3.8375\n",
      "Total sintomas grupo 3: 0.0 ; Media de sintomas del grupo 3: 0.0 ; Puntuación media: 0\n",
      "Total sintomas grupo 6: 62 ; Media de sintomas del grupo 6: 1.24 ; Puntuación media: 2.6870967741935488\n",
      "Total sintomas grupo 7: 2 ; Media de sintomas del grupo 7: 0.04 ; Puntuación media: 1.9\n",
      "Total sintomas grupo 8: 6 ; Media de sintomas del grupo 8: 0.12 ; Puntuación media: 4.183333333333334\n",
      "\n",
      "CASOS POSITIVOS ACERTADOS:  32\n"
     ]
    }
   ],
   "source": [
    "print('CASOS POSITIVOS')\n",
    "contadorT = 0\n",
    "contador_g1 = 0\n",
    "contador_g2 = 0\n",
    "contador_g3 = 0.\n",
    "contador_g6 = 0\n",
    "contador_g7 = 0\n",
    "contador_g8 = 0\n",
    "puntuacion_g1 = 0\n",
    "puntuacion_g2 = 0\n",
    "puntuacion_g3 = 0\n",
    "puntuacion_g6 = 0\n",
    "puntuacion_g7 = 0\n",
    "puntuacion_g8 = 0\n",
    "for i in range(50,100):\n",
    "    g1, g2, g3, g4, g5, g6, g7, g8, score = clasificador.symptoms_analysis(i)\n",
    "    contador_g1 += len(g1[0])\n",
    "    puntuacion_g1 += g1[1]\n",
    "    contador_g2 += len(g2[0])\n",
    "    puntuacion_g2 += g2[1]\n",
    "    contador_g3 += len(g3[0])\n",
    "    puntuacion_g3 += g3[1]\n",
    "    contador_g6 += len(g6[0])\n",
    "    puntuacion_g6 += g6[1]\n",
    "    contador_g7 += len(g7[0])\n",
    "    puntuacion_g7 += g7[1]\n",
    "    contador_g8 += len(g8[0])\n",
    "    puntuacion_g8 += g8[1]\n",
    "    resultado = clasificador_reglas.execute('datasets2', i)\n",
    "    if resultado == True:\n",
    "        contadorT += 1\n",
    "print(f\"Total sintomas grupo 1: {contador_g1} ; Media de sintomas del grupo 1: {contador_g1/50} ; Puntuación media: {puntuacion_g1/contador_g1}\")\n",
    "print(f\"Total sintomas grupo 2: {contador_g2} ; Media de sintomas del grupo 2: {contador_g2/50} ; Puntuación media: {puntuacion_g2/contador_g2}\")\n",
    "print(f\"Total sintomas grupo 3: {contador_g3} ; Media de sintomas del grupo 3: {contador_g3/50} ; Puntuación media: {puntuacion_g3}\")\n",
    "print(f\"Total sintomas grupo 6: {contador_g6} ; Media de sintomas del grupo 6: {contador_g6/50} ; Puntuación media: {puntuacion_g6/contador_g6}\")\n",
    "print(f\"Total sintomas grupo 7: {contador_g7} ; Media de sintomas del grupo 7: {contador_g7/50} ; Puntuación media: {puntuacion_g7/contador_g7}\")\n",
    "print(f\"Total sintomas grupo 8: {contador_g8} ; Media de sintomas del grupo 8: {contador_g8/50} ; Puntuación media: {puntuacion_g8/contador_g8}\")\n",
    "print()\n",
    "print('CASOS POSITIVOS ACERTADOS: ', contadorT)"
   ]
  },
  {
   "cell_type": "code",
   "execution_count": 4,
   "metadata": {},
   "outputs": [
    {
     "name": "stdout",
     "output_type": "stream",
     "text": [
      "TOTAL ACERTADOS:  68  DE 100\n"
     ]
    }
   ],
   "source": [
    "print('TOTAL ACERTADOS: ', contadorT + contadorF, ' DE 100')"
   ]
  },
  {
   "cell_type": "code",
   "execution_count": 5,
   "metadata": {},
   "outputs": [
    {
     "name": "stdout",
     "output_type": "stream",
     "text": [
      "Recall: 0.6400\n",
      "Accuracy: 0.6800\n",
      "Precision: 0.6957\n",
      "F1-score: 0.6667\n"
     ]
    }
   ],
   "source": [
    "total_positivos = 50\n",
    "total_negativos = 50\n",
    "\n",
    "# Calcular False Negatives (FN) y False Positives (FP)\n",
    "FN = total_positivos - contadorT\n",
    "FP = total_negativos - contadorF\n",
    "\n",
    "# Calcular Recall\n",
    "recall = contadorT / (contadorT + FN)\n",
    "\n",
    "# Calcular Accuracy\n",
    "accuracy = (contadorT + contadorF) / (total_positivos + total_negativos)\n",
    "\n",
    "# Calcular Precision\n",
    "precision = contadorT / (contadorT + FP)\n",
    "\n",
    "# Calcular F1-score\n",
    "f1_score = 2 * (precision * recall) / (precision + recall)\n",
    "\n",
    "# Imprimir resultados\n",
    "print(f\"Recall: {recall:.4f}\")\n",
    "print(f\"Accuracy: {accuracy:.4f}\")\n",
    "print(f\"Precision: {precision:.4f}\")\n",
    "print(f\"F1-score: {f1_score:.4f}\")"
   ]
  }
 ],
 "metadata": {
  "kernelspec": {
   "display_name": "Python 3",
   "language": "python",
   "name": "python3"
  },
  "language_info": {
   "codemirror_mode": {
    "name": "ipython",
    "version": 3
   },
   "file_extension": ".py",
   "mimetype": "text/x-python",
   "name": "python",
   "nbconvert_exporter": "python",
   "pygments_lexer": "ipython3",
   "version": "3.11.9"
  }
 },
 "nbformat": 4,
 "nbformat_minor": 2
}
